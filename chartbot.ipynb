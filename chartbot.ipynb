{
 "cells": [
  {
   "cell_type": "code",
   "execution_count": null,
   "id": "650dfbb7",
   "metadata": {},
   "outputs": [
    {
     "name": "stdout",
     "output_type": "stream",
     "text": [
      "Simple Rule-Based Chatbot:\n",
      "Type 'exit' to end the conversation.\n",
      "User: deb\n",
      "Chatbot: I'm sorry, I don't understand. Can you please rephrase?\n"
     ]
    }
   ],
   "source": [
    "import re\n",
    "\n",
    "def get_response(user_input):\n",
    "    # Predefined rules and responses\n",
    "    rules = [\n",
    "        (r'hello|hi|hey', 'Hello! How can I help you?'),\n",
    "        (r'how are you', 'I am just a computer program, but thanks for asking!'),\n",
    "        (r'your name', \"I'm a chatbot.\"),\n",
    "        (r'bye|goodbye', 'Goodbye! Have a great day!'),\n",
    "        (r'\\b(?:thank you|thanks)\\b', 'You\\'re welcome!'),\n",
    "        # Add more rules as needed\n",
    "    ]\n",
    "\n",
    "    # Default response for unknown queries\n",
    "    default_response = \"I'm sorry, I don't understand. Can you please rephrase?\"\n",
    "\n",
    "    # Check each rule and find a match\n",
    "    for pattern, response in rules:\n",
    "        if re.search(pattern, user_input, re.IGNORECASE):\n",
    "            return response\n",
    "\n",
    "    return default_response\n",
    "\n",
    "def main():\n",
    "    print(\"Simple Rule-Based Chatbot:\")\n",
    "    print(\"Type 'exit' to end the conversation.\")\n",
    "\n",
    "    while True:\n",
    "        user_input = input(\"User: \").lower()\n",
    "\n",
    "        if user_input == 'exit':\n",
    "            print(\"Chatbot: Goodbye!\")\n",
    "            break\n",
    "\n",
    "        response = get_response(user_input)\n",
    "        print(\"Chatbot:\", response)\n",
    "\n",
    "if __name__ == \"__main__\":\n",
    "    main()\n"
   ]
  },
  {
   "cell_type": "code",
   "execution_count": null,
   "id": "de2764b3",
   "metadata": {},
   "outputs": [],
   "source": []
  }
 ],
 "metadata": {
  "kernelspec": {
   "display_name": "Python 3 (ipykernel)",
   "language": "python",
   "name": "python3"
  },
  "language_info": {
   "codemirror_mode": {
    "name": "ipython",
    "version": 3
   },
   "file_extension": ".py",
   "mimetype": "text/x-python",
   "name": "python",
   "nbconvert_exporter": "python",
   "pygments_lexer": "ipython3",
   "version": "3.11.5"
  }
 },
 "nbformat": 4,
 "nbformat_minor": 5
}
